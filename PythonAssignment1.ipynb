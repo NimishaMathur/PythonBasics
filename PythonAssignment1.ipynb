{
  "nbformat": 4,
  "nbformat_minor": 0,
  "metadata": {
    "colab": {
      "provenance": []
    },
    "kernelspec": {
      "name": "python3",
      "display_name": "Python 3"
    },
    "language_info": {
      "name": "python"
    }
  },
  "cells": [
    {
      "cell_type": "code",
      "execution_count": null,
      "metadata": {
        "colab": {
          "base_uri": "https://localhost:8080/"
        },
        "id": "7AJXaAE9zmLq",
        "outputId": "95c70ef9-e6df-4b1e-8331-1d15be46c420"
      },
      "outputs": [
        {
          "output_type": "stream",
          "name": "stdout",
          "text": [
            "Hello, World!\n"
          ]
        }
      ],
      "source": [
        "#Q1- Write a Python program to print \"Hello, World!\"\n",
        "print(\"Hello, World!\")"
      ]
    },
    {
      "cell_type": "code",
      "source": [
        "#Q2- Write a Python program that displays your name and age.\n",
        "print(\"Name - Nimisha Mathur\")\n",
        "print(\"Age - 24\")"
      ],
      "metadata": {
        "colab": {
          "base_uri": "https://localhost:8080/"
        },
        "id": "-FPNshgK0Jq5",
        "outputId": "6de6427a-673e-47fc-a7ed-cb7038af3d4e"
      },
      "execution_count": null,
      "outputs": [
        {
          "output_type": "stream",
          "name": "stdout",
          "text": [
            "Name - Nimisha Mathur\n",
            "Age - 24\n"
          ]
        }
      ]
    },
    {
      "cell_type": "code",
      "source": [
        "#Q3- Write code to print all the pre-defined keywords in Python using the keyword library.\n",
        "help(\"keywords\")"
      ],
      "metadata": {
        "colab": {
          "base_uri": "https://localhost:8080/"
        },
        "id": "xEw8NWZ50rRx",
        "outputId": "d3acc1e6-03a1-44d8-a94e-6d6395fcce34"
      },
      "execution_count": 3,
      "outputs": [
        {
          "output_type": "stream",
          "name": "stdout",
          "text": [
            "\n",
            "Here is a list of the Python keywords.  Enter any keyword to get more help.\n",
            "\n",
            "False               class               from                or\n",
            "None                continue            global              pass\n",
            "True                def                 if                  raise\n",
            "and                 del                 import              return\n",
            "as                  elif                in                  try\n",
            "assert              else                is                  while\n",
            "async               except              lambda              with\n",
            "await               finally             nonlocal            yield\n",
            "break               for                 not                 \n",
            "\n"
          ]
        }
      ]
    },
    {
      "cell_type": "code",
      "source": [
        "#Q4- Write a program that checks if a given word is a Python keyword.\n",
        "import keyword\n",
        "word = input(\"Enter a word: \")\n",
        "if keyword.iskeyword(word):\n",
        "    print(f\"{word} is a Python keyword.\")\n",
        "else:\n",
        "    print(f\"{word} is not a Python keyword.\")\n",
        "\n",
        "\n"
      ],
      "metadata": {
        "id": "zSDOt2NB19gF",
        "colab": {
          "base_uri": "https://localhost:8080/"
        },
        "outputId": "5615429f-5b2c-4f13-c9ed-b7fe43f73346"
      },
      "execution_count": 4,
      "outputs": [
        {
          "output_type": "stream",
          "name": "stdout",
          "text": [
            "Enter a word: hello\n",
            "hello is not a Python keyword.\n"
          ]
        }
      ]
    },
    {
      "cell_type": "code",
      "source": [
        "#Q5 - Create a list and tuple in Python, and demonstrate how attempting to change an element works differently for each.\n",
        "a = [1,2,3,\"Ajay\",\"Vijay\"] #this is a table, which is mutable and can be changed.\n",
        "a\n"
      ],
      "metadata": {
        "colab": {
          "base_uri": "https://localhost:8080/"
        },
        "id": "mqMXAVQX6ClV",
        "outputId": "7ce8a9fc-2e5a-4f8b-8b69-7a1dbaeb1b98"
      },
      "execution_count": null,
      "outputs": [
        {
          "output_type": "execute_result",
          "data": {
            "text/plain": [
              "[1, 2, 3, 'Ajay', 'Vijay']"
            ]
          },
          "metadata": {},
          "execution_count": 2
        }
      ]
    },
    {
      "cell_type": "code",
      "source": [
        "a[3] = \"Aman\"\n",
        "a"
      ],
      "metadata": {
        "colab": {
          "base_uri": "https://localhost:8080/"
        },
        "id": "eG8XnfpT7iSq",
        "outputId": "8f4c925a-3cef-4be8-9d7c-4a6434a76610"
      },
      "execution_count": null,
      "outputs": [
        {
          "output_type": "execute_result",
          "data": {
            "text/plain": [
              "[1, 2, 3, 'Aman', 'Vijay']"
            ]
          },
          "metadata": {},
          "execution_count": 5
        }
      ]
    },
    {
      "cell_type": "code",
      "source": [
        "b = (1,2,3,\"Ajay\",\"Vijay\") #this is a rowtuple, which is immutable and can't be changed.\n",
        "b"
      ],
      "metadata": {
        "colab": {
          "base_uri": "https://localhost:8080/"
        },
        "id": "1NUv3QfN7wDX",
        "outputId": "9889cd13-d91c-49f2-9636-6000d9779916"
      },
      "execution_count": null,
      "outputs": [
        {
          "output_type": "execute_result",
          "data": {
            "text/plain": [
              "(1, 2, 3, 'Ajay', 'Vijay')"
            ]
          },
          "metadata": {},
          "execution_count": 6
        }
      ]
    },
    {
      "cell_type": "code",
      "source": [
        "b[3] = \"Aman\""
      ],
      "metadata": {
        "colab": {
          "base_uri": "https://localhost:8080/",
          "height": 141
        },
        "id": "ooi1QcuO738f",
        "outputId": "edb9d541-578a-4052-dabe-ae794ba4a136"
      },
      "execution_count": null,
      "outputs": [
        {
          "output_type": "error",
          "ename": "TypeError",
          "evalue": "'tuple' object does not support item assignment",
          "traceback": [
            "\u001b[0;31m---------------------------------------------------------------------------\u001b[0m",
            "\u001b[0;31mTypeError\u001b[0m                                 Traceback (most recent call last)",
            "\u001b[0;32m<ipython-input-7-d895d048be28>\u001b[0m in \u001b[0;36m<cell line: 1>\u001b[0;34m()\u001b[0m\n\u001b[0;32m----> 1\u001b[0;31m \u001b[0mb\u001b[0m\u001b[0;34m[\u001b[0m\u001b[0;36m3\u001b[0m\u001b[0;34m]\u001b[0m \u001b[0;34m=\u001b[0m \u001b[0;34m\"Aman\"\u001b[0m\u001b[0;34m\u001b[0m\u001b[0;34m\u001b[0m\u001b[0m\n\u001b[0m",
            "\u001b[0;31mTypeError\u001b[0m: 'tuple' object does not support item assignment"
          ]
        }
      ]
    },
    {
      "cell_type": "code",
      "source": [
        "b #since it is tuple, it is unchangable and will remain same."
      ],
      "metadata": {
        "colab": {
          "base_uri": "https://localhost:8080/"
        },
        "id": "7y6e0T3n716m",
        "outputId": "6caf58e4-9caa-4f47-84ad-9ca08e9bfeeb"
      },
      "execution_count": null,
      "outputs": [
        {
          "output_type": "execute_result",
          "data": {
            "text/plain": [
              "(1, 2, 3, 'Ajay', 'Vijay')"
            ]
          },
          "metadata": {},
          "execution_count": 9
        }
      ]
    },
    {
      "cell_type": "code",
      "source": [
        "#Q6 & Q7- Write a function to demonstrate the behavior of mutable and immutable arguments.\n",
        "a = [1,2,3,4.5,\"Aman\",\"Ashish\",\"Atul\"]\n",
        "b = (1,2,3,4.5,\"Aman\",\"Ashish\",\"Atul\")\n",
        "\n",
        "a[-2] = \"Aakash\"\n",
        "a"
      ],
      "metadata": {
        "colab": {
          "base_uri": "https://localhost:8080/"
        },
        "id": "Vd9EPa2k7gEA",
        "outputId": "d2e5c2d2-cc31-41e7-9d4b-a266fa7afec4"
      },
      "execution_count": null,
      "outputs": [
        {
          "output_type": "execute_result",
          "data": {
            "text/plain": [
              "[1, 2, 3, 4.5, 'Aman', 'Aakash', 'Atul']"
            ]
          },
          "metadata": {},
          "execution_count": 12
        }
      ]
    },
    {
      "cell_type": "code",
      "source": [
        "b[-2] = \"Aakash\""
      ],
      "metadata": {
        "colab": {
          "base_uri": "https://localhost:8080/",
          "height": 141
        },
        "id": "Mkxj3XquC_27",
        "outputId": "e26f2e6e-608b-486b-c52b-caa25bf8d49e"
      },
      "execution_count": null,
      "outputs": [
        {
          "output_type": "error",
          "ename": "TypeError",
          "evalue": "'tuple' object does not support item assignment",
          "traceback": [
            "\u001b[0;31m---------------------------------------------------------------------------\u001b[0m",
            "\u001b[0;31mTypeError\u001b[0m                                 Traceback (most recent call last)",
            "\u001b[0;32m<ipython-input-13-5fc5d9445470>\u001b[0m in \u001b[0;36m<cell line: 1>\u001b[0;34m()\u001b[0m\n\u001b[0;32m----> 1\u001b[0;31m \u001b[0mb\u001b[0m\u001b[0;34m[\u001b[0m\u001b[0;34m-\u001b[0m\u001b[0;36m2\u001b[0m\u001b[0;34m]\u001b[0m \u001b[0;34m=\u001b[0m \u001b[0;34m\"Aakash\"\u001b[0m\u001b[0;34m\u001b[0m\u001b[0;34m\u001b[0m\u001b[0m\n\u001b[0m",
            "\u001b[0;31mTypeError\u001b[0m: 'tuple' object does not support item assignment"
          ]
        }
      ]
    },
    {
      "cell_type": "code",
      "source": [
        "b #immutable arguments will throw an error, whereas for mutuable the element will be changed."
      ],
      "metadata": {
        "colab": {
          "base_uri": "https://localhost:8080/"
        },
        "id": "esF3FmwyDRHw",
        "outputId": "d927fd50-e7e0-4986-befd-509221ed46f1"
      },
      "execution_count": null,
      "outputs": [
        {
          "output_type": "execute_result",
          "data": {
            "text/plain": [
              "(1, 2, 3, 4.5, 'Aman', 'Ashish', 'Atul')"
            ]
          },
          "metadata": {},
          "execution_count": 14
        }
      ]
    },
    {
      "cell_type": "code",
      "source": [
        "#Q8- Write a program to demonstrate the use of logical operators.\n",
        "#AND Operator\n",
        "x = 3\n",
        "y = 5\n",
        "if x>=0 and y>=0 :\n",
        "  print(\"Both X and Y is positive\")"
      ],
      "metadata": {
        "colab": {
          "base_uri": "https://localhost:8080/"
        },
        "id": "uxXbEbcXDSXd",
        "outputId": "2ccca5ef-965e-44d7-b172-ff7798284eaa"
      },
      "execution_count": null,
      "outputs": [
        {
          "output_type": "stream",
          "name": "stdout",
          "text": [
            "Both X and Y is positive\n"
          ]
        }
      ]
    },
    {
      "cell_type": "code",
      "source": [
        "#OR Operator\n",
        "x = -3\n",
        "y = 5\n",
        "if x>=0 or y>=0 :\n",
        "  print(\"At least one of the X or Y is positive\")"
      ],
      "metadata": {
        "colab": {
          "base_uri": "https://localhost:8080/"
        },
        "id": "9c-xZ9tTFYG7",
        "outputId": "56406321-d4ae-488a-a11d-53741cfed558"
      },
      "execution_count": null,
      "outputs": [
        {
          "output_type": "stream",
          "name": "stdout",
          "text": [
            "At least one of the X or Y is positive\n"
          ]
        }
      ]
    },
    {
      "cell_type": "code",
      "source": [
        "#NOT Operator\n",
        "x = 10\n",
        "if not x == 0:\n",
        "  print(\"X is not Zero\")"
      ],
      "metadata": {
        "colab": {
          "base_uri": "https://localhost:8080/"
        },
        "id": "8Mqg0PLMFlau",
        "outputId": "0e34ba94-b5d8-4f87-8b7a-f17bc18b648f"
      },
      "execution_count": null,
      "outputs": [
        {
          "output_type": "stream",
          "name": "stdout",
          "text": [
            "X is not Zero\n"
          ]
        }
      ]
    },
    {
      "cell_type": "code",
      "source": [
        "#Q9 - Write a Python program to convert user input from string to integer, float, and boolean types.\n",
        "age = int(input(\"Age: \"))"
      ],
      "metadata": {
        "id": "OwMIzVuPH5Wl",
        "colab": {
          "base_uri": "https://localhost:8080/"
        },
        "outputId": "ccc3faf5-4cb0-4921-d7be-b499160bf25d"
      },
      "execution_count": 1,
      "outputs": [
        {
          "name": "stdout",
          "output_type": "stream",
          "text": [
            "Age: 25\n"
          ]
        }
      ]
    },
    {
      "cell_type": "code",
      "source": [
        "age = float(input(\"Age: \"))"
      ],
      "metadata": {
        "id": "0er_96JNH6hu",
        "colab": {
          "base_uri": "https://localhost:8080/"
        },
        "outputId": "840c0fa9-f00d-47b5-8167-db1c0353f2e1"
      },
      "execution_count": 2,
      "outputs": [
        {
          "name": "stdout",
          "output_type": "stream",
          "text": [
            "Age: 26\n"
          ]
        }
      ]
    },
    {
      "cell_type": "code",
      "source": [
        "VIPservice = bool(input(\"Are you a VIP Customer: \"))"
      ],
      "metadata": {
        "id": "QwSMnGcRIBtr",
        "colab": {
          "base_uri": "https://localhost:8080/"
        },
        "outputId": "fd406daf-2223-473f-8033-fe3e5719a2a0"
      },
      "execution_count": 5,
      "outputs": [
        {
          "name": "stdout",
          "output_type": "stream",
          "text": [
            "Are you a VIP Customer: Yes\n"
          ]
        }
      ]
    },
    {
      "cell_type": "code",
      "source": [
        "#Q10 - Write code to demonstrate type casting with list elements.\n",
        "my_list = [10, 20.5, \"30\", True]\n",
        "\n",
        "int_list = [int(x) for x in my_list]\n",
        "float_list = [float(x) for x in my_list]\n",
        "str_list = [str(x) for x in my_list]\n",
        "\n",
        "print(\"Original List:\", my_list)\n",
        "print(\"Integer List:\", int_list)\n",
        "print(\"Float List:\", float_list)\n",
        "print(\"String List:\", str_list)"
      ],
      "metadata": {
        "colab": {
          "base_uri": "https://localhost:8080/"
        },
        "id": "F1Mbb7jzkQ2V",
        "outputId": "08e2e905-dfd2-493b-8e78-bfbe8bcdf860"
      },
      "execution_count": 6,
      "outputs": [
        {
          "output_type": "stream",
          "name": "stdout",
          "text": [
            "Original List: [10, 20.5, '30', True]\n",
            "Integer List: [10, 20, 30, 1]\n",
            "Float List: [10.0, 20.5, 30.0, 1.0]\n",
            "String List: ['10', '20.5', '30', 'True']\n"
          ]
        }
      ]
    },
    {
      "cell_type": "code",
      "source": [
        "#Q11 - Write a program that checks if a number is positive, negative, or zero.\n",
        "number= int(input(\"Please type a No.:\"))\n",
        "if number >0:\n",
        "  print (\"This no. is Positive\")\n",
        "elif number <0:\n",
        "  print (\"This no. is Negative\")\n",
        "else:\n",
        "  print (\"This no. is Zero\")"
      ],
      "metadata": {
        "colab": {
          "base_uri": "https://localhost:8080/"
        },
        "id": "7pQuO9uilCl0",
        "outputId": "7e439736-7437-4e54-8033-2878c663e056"
      },
      "execution_count": 7,
      "outputs": [
        {
          "output_type": "stream",
          "name": "stdout",
          "text": [
            "Please type a No.:65\n",
            "This no. is Positive\n"
          ]
        }
      ]
    },
    {
      "cell_type": "code",
      "source": [
        "#Q12 -  Write a for loop to print numbers from 1 to 10.\n",
        "for i in range(1,11):\n",
        "  print(i)"
      ],
      "metadata": {
        "colab": {
          "base_uri": "https://localhost:8080/"
        },
        "id": "bKs0TScxlLWx",
        "outputId": "3f302109-9fdc-47b5-e7aa-7ac4f1bee23a"
      },
      "execution_count": 8,
      "outputs": [
        {
          "output_type": "stream",
          "name": "stdout",
          "text": [
            "1\n",
            "2\n",
            "3\n",
            "4\n",
            "5\n",
            "6\n",
            "7\n",
            "8\n",
            "9\n",
            "10\n"
          ]
        }
      ]
    },
    {
      "cell_type": "code",
      "source": [
        "#Q13 - Write a Python program to find the sum of all even numbers between 1 and 50.\n",
        "sum = 0\n",
        "for i in range(1,51):\n",
        "  if i%2==0:\n",
        "    sum = sum+i\n",
        "print(sum)"
      ],
      "metadata": {
        "colab": {
          "base_uri": "https://localhost:8080/"
        },
        "id": "MDlqhzcDlVJf",
        "outputId": "24c8ada7-3f5a-45d5-8255-66527f21dc80"
      },
      "execution_count": 9,
      "outputs": [
        {
          "output_type": "stream",
          "name": "stdout",
          "text": [
            "650\n"
          ]
        }
      ]
    },
    {
      "cell_type": "code",
      "source": [
        "#Q14 - Write a program to reverse a string using a while loop.\n",
        "a = \"Hello World\"\n",
        "while len(a) > 0:\n",
        "  print(a[-1])\n",
        "  a = a[:-1]"
      ],
      "metadata": {
        "colab": {
          "base_uri": "https://localhost:8080/"
        },
        "id": "BM67Cd9LltdJ",
        "outputId": "d239db54-60bf-43f6-c2a0-e7e640c29946"
      },
      "execution_count": 10,
      "outputs": [
        {
          "output_type": "stream",
          "name": "stdout",
          "text": [
            "d\n",
            "l\n",
            "r\n",
            "o\n",
            "W\n",
            " \n",
            "o\n",
            "l\n",
            "l\n",
            "e\n",
            "H\n"
          ]
        }
      ]
    },
    {
      "cell_type": "code",
      "source": [
        "#Q15 - Write a Python program to calculate the factorial of a number provided by the user using a while loop.\n",
        "num = int(input(\"Enter a number: \"))\n",
        "factorial = 1\n",
        "i = 1\n",
        "while i <= num:\n",
        "  factorial *= i\n",
        "  i += 1\n",
        "print(\"The factorial of\", num, \"is\", factorial)"
      ],
      "metadata": {
        "colab": {
          "base_uri": "https://localhost:8080/"
        },
        "id": "VMkhgpYGyAka",
        "outputId": "3aff2c10-9496-42b7-fb4b-52de25edf19e"
      },
      "execution_count": 11,
      "outputs": [
        {
          "output_type": "stream",
          "name": "stdout",
          "text": [
            "Enter a number: 24\n",
            "The factorial of 24 is 620448401733239439360000\n"
          ]
        }
      ]
    },
    {
      "cell_type": "code",
      "source": [],
      "metadata": {
        "id": "XXVcJewHy3Mb"
      },
      "execution_count": null,
      "outputs": []
    }
  ]
}